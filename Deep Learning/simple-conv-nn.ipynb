{
 "cells": [
  {
   "cell_type": "code",
   "execution_count": 10,
   "metadata": {},
   "outputs": [
    {
     "name": "stdout",
     "output_type": "stream",
     "text": [
      "Training Accyracy:  [19.5] validation accuracy:  17.8\n",
      "Training Accyracy:  [42.7] validation accuracy:  43.6\n",
      "Training Accyracy:  [53.2] validation accuracy:  54.2\n",
      "Training Accyracy:  [60.6] validation accuracy:  57.99999999999999\n",
      "Training Accyracy:  [66.7] validation accuracy:  68.0\n",
      "Training Accyracy:  [67.5] validation accuracy:  68.60000000000001\n",
      "Training Accyracy:  [73.2] validation accuracy:  71.39999999999999\n",
      "Training Accyracy:  [70.7] validation accuracy:  68.0\n",
      "Training Accyracy:  [74.] validation accuracy:  71.39999999999999\n",
      "Training Accyracy:  [75.5] validation accuracy:  74.6\n",
      "Training Accyracy:  [72.7] validation accuracy:  73.6\n",
      "Training Accyracy:  [73.6] validation accuracy:  77.0\n",
      "Training Accyracy:  [76.1] validation accuracy:  74.8\n",
      "Training Accyracy:  [77.5] validation accuracy:  74.8\n",
      "Training Accyracy:  [77.5] validation accuracy:  75.8\n",
      "Training Accyracy:  [78.3] validation accuracy:  74.4\n",
      "Training Accyracy:  [80.5] validation accuracy:  77.2\n",
      "Training Accyracy:  [76.5] validation accuracy:  74.2\n",
      "Training Accyracy:  [80.] validation accuracy:  78.8\n",
      "Training Accyracy:  [80.4] validation accuracy:  78.8\n",
      "102.77080702781677\n"
     ]
    }
   ],
   "source": [
    "%matplotlib inline\n",
    "import matplotlib.pyplot as plt\n",
    "import numpy as np\n",
    "import torch\n",
    "from torch import autograd\n",
    "import torch.nn.functional as F\n",
    "import time\n",
    "from sklearn.preprocessing import MinMaxScaler\n",
    "minmax= MinMaxScaler()\n",
    "\n",
    "images = np.load(\"images.npy\")\n",
    "labels = np.load(\"labels.npy\")\n",
    "HEIGHT = images.shape[1]\n",
    "WIDTH = images.shape[2]\n",
    "ELEMENT = HEIGHT*WIDTH\n",
    "\n",
    "# images_processed = minmax.fit_transform(images.reshape(images.shape[0], ELEMENT))\n",
    "images_reshaped = images.reshape(images.shape[0], 1, HEIGHT,WIDTH)\n",
    "# images_reshaped = images.reshape(images.shape[0], 1, HEIGHT,WIDTH)\n",
    "# images_normed =  (images_reshaped - np.mean(images_reshaped, axis = 0))/np.std(images_reshaped, axis = 0)\n",
    "\n",
    "\n",
    "NUM_IMAGES =  images_reshaped.shape[0]# number of images\n",
    "NUM_VAL_IMAGES = NUM_IMAGES // 100\n",
    "NUM_TRAIN_IMGAGES = NUM_IMAGES - NUM_VAL_IMAGES\n",
    "\n",
    "\n",
    "indices = np.random.permutation(images_reshaped.shape[0])\n",
    "training_idx, test_idx = indices[:NUM_TRAIN_IMGAGES], indices[NUM_TRAIN_IMGAGES:]\n",
    "training_image, test_image = images_reshaped[training_idx,:], images_reshaped[test_idx,:]\n",
    "training_label = labels[training_idx]\n",
    "test_label = labels[test_idx]\n",
    "class TooSimpleConvNN(torch.nn.Module):\n",
    "    def __init__(self):\n",
    "        super().__init__()\n",
    "              # 3x3 convolution that takes in an image with one channel\n",
    "              # and outputs an image with 8 channels.\n",
    "        self.conv1 = torch.nn.Conv2d(1, 8, kernel_size=3)\n",
    "              # 3x3 convolution that takes in an image with 8 channels\n",
    "              # and outputs an image with 16 channels. The output image\n",
    "              # has approximately half the height and half the width\n",
    "              # because of the stride of 2.\n",
    "        self.conv2 = torch.nn.Conv2d(8, 16, kernel_size=3, stride=2)\n",
    "              # 1x1 convolution that takes in an image with 16 channels and\n",
    "              # produces an image with 5 channels. Here, the 5 channels\n",
    "              # will correspond to class scores.\n",
    "        self.final_conv = torch.nn.Conv2d(16, 5, kernel_size=1)\n",
    "    def forward(self, x):\n",
    "              # Convolutions work with images of shape\n",
    "              # [batch_size, num_channels, height, width]\n",
    "        x = x.view(-1, HEIGHT, WIDTH).unsqueeze(1)\n",
    "        x = F.relu(self.conv1(x))\n",
    "        x = F.relu(self.conv2(x))\n",
    "  \n",
    "\n",
    "        n, c, h, w = x.size()\n",
    "        x = F.avg_pool2d(x, kernel_size=[h, w])\n",
    "        x = self.final_conv(x).view(-1, NUM_CLASSES)\n",
    "        return x\n",
    "    \n",
    "def approx_train_accuracy(y_hat, labels):\n",
    "    labels = labels.detach().numpy()\n",
    "    y_hat = y_hat.detach().numpy()\n",
    "\n",
    "    return np.sum(y_hat==labels)/float(labels.size)\n",
    "\n",
    "def train(batch_size, train_seqs, train_labels):\n",
    "    # i is is a 1-D array with shape [batch_size]\n",
    "    i = np.random.choice(train_seqs.shape[0], size=batch_size, replace=False)\n",
    "    x = torch.from_numpy(train_seqs[i].astype(np.float32))\n",
    "    y = torch.from_numpy(train_labels[i].astype(np.int))\n",
    "    # Forward pass: Compute predicted y by passing x to the model\n",
    "    y_hat_ = model(x)\n",
    "    \n",
    "    # Compute and print loss\n",
    "    loss = F.cross_entropy(y_hat_, y)\n",
    "    # Zero gradients, perform a backward pass, and update the weights.\n",
    "    optimizer.zero_grad()\n",
    "    loss.backward()\n",
    "    optimizer.step()\n",
    "\n",
    "    return loss.item()\n",
    "    \n",
    "model = TooSimpleConvNN()\n",
    "\n",
    "\n",
    "# Loss and optimizer\n",
    "optimizer = torch.optim.Adam(model.parameters(), lr= 0.001)\n",
    "\n",
    "# scheduler = torch.optim.lr_scheduler.StepLR(optimizer, step_size=1000, gamma=0.1)\n",
    "\n",
    "NUM_OPT_STEPS = 2000\n",
    "batch_size = 150\n",
    "\n",
    "# # ELEMENTS = images_reshaped.shape[1]# length of the image vector \n",
    "D_H = 100 # numbers of hidden layers \n",
    "NUM_CLASSES = 5 # number of classes\n",
    "index_store = []\n",
    "train_accs, val_accs = [], []\n",
    "val_correct = []\n",
    "# total = []\n",
    "images_val = test_image\n",
    "labels_val = test_label\n",
    "start = time.time()\n",
    "for i in range(NUM_OPT_STEPS):\n",
    "#     scheduler.step()\n",
    "    loss = train(batch_size,training_image,training_label )\n",
    "\n",
    "    if i % 100 == 0:\n",
    "        radom_index = np.random.choice(training_image.shape[0], size= 1000, replace=False)\n",
    "        x_acc = torch.from_numpy(training_image[radom_index].astype(np.float32))\n",
    "        y_acc = torch.from_numpy(training_label[radom_index].astype(np.int))\n",
    "\n",
    "        y_hat_acc = model(x_acc)\n",
    "        _, y_pred = torch.max(y_hat_acc,1)\n",
    "        accuracy = np.sum((y_pred==y_acc).detach().numpy())/(y_acc.size())\n",
    "        train_accs.append(accuracy*100)\n",
    "        index_store.append(i)\n",
    "\n",
    "        with torch.no_grad():\n",
    "\n",
    "\n",
    "            val_correct = []\n",
    "            for j in range(labels_val.shape[0]):\n",
    "                x_val = torch.from_numpy(images_val[j].astype(np.float32))\n",
    "                outputs = model(x_val)\n",
    "                predicted = torch.max(outputs, 1)[1]\n",
    "                val_correct.append((predicted.item() == labels_val[j]).sum().item())\n",
    "           \n",
    "            total = len(labels_val)\n",
    "            val_accs.append((np.sum(val_correct) / total) * 100)\n",
    "            val_ac = (np.sum(val_correct) / total) * 100\n",
    "        print(\"Training Accyracy: \",accuracy*100, \"validation accuracy: \",val_ac )\n",
    "\n",
    "end = time.time()\n",
    "print(end - start)\n",
    "\n"
   ]
  },
  {
   "cell_type": "code",
   "execution_count": 9,
   "metadata": {},
   "outputs": [
    {
     "data": {
      "text/plain": [
       "Text(0, 0.5, 'Accuracy %')"
      ]
     },
     "execution_count": 9,
     "metadata": {},
     "output_type": "execute_result"
    },
    {
     "data": {
      "image/png": "[encoded data removed]",
      "text/plain": [
       "<Figure size 432x288 with 1 Axes>"
      ]
     },
     "metadata": {
      "needs_background": "light"
     },
     "output_type": "display_data"
    }
   ],
   "source": [
    "plt.plot(index_store, val_accs, index_store, train_accs)\n",
    "\n",
    "plt.xlabel(\"optimization step\")\n",
    "plt.ylabel(\"Accuracy %\")"
   ]
  },
  {
   "cell_type": "code",
   "execution_count": 8,
   "metadata": {},
   "outputs": [
    {
     "name": "stdout",
     "output_type": "stream",
     "text": [
      "Test Accuracy of the model on the 10000 test images: 82.8 %\n"
     ]
    }
   ],
   "source": [
    "# Test the model\n",
    "model.eval()\n",
    "with torch.no_grad():\n",
    "    correct = []\n",
    "    total = []\n",
    "    images_val = test_image\n",
    "    labels_val = test_label\n",
    "    \n",
    "    for i in range(labels_val.shape[0]):\n",
    "        x_val = torch.from_numpy(images_val[i].astype(np.float32))\n",
    "#         labels_val = torch.from_numpy(labels_val.astype(np.int))\n",
    "\n",
    "        outputs = model(x_val)\n",
    "        predicted = torch.max(outputs, 1)[1]\n",
    "        total = labels_val.size\n",
    "        correct.append((predicted.item() == labels_val[i]).sum().item())\n",
    "    total = len(labels_val)\n",
    "    print('Test Accuracy of the model on the 10000 test images: {} %'.format((np.sum(correct) / total) * 100))\n"
   ]
  },
  {
   "cell_type": "code",
   "execution_count": null,
   "metadata": {},
   "outputs": [],
   "source": []
  },
  {
   "cell_type": "code",
   "execution_count": null,
   "metadata": {},
   "outputs": [],
   "source": []
  }
 ],
 "metadata": {
  "kernelspec": {
   "display_name": "Python 3",
   "language": "python",
   "name": "python3"
  },
  "language_info": {
   "codemirror_mode": {
    "name": "ipython",
    "version": 3
   },
   "file_extension": ".py",
   "mimetype": "text/x-python",
   "name": "python",
   "nbconvert_exporter": "python",
   "pygments_lexer": "ipython3",
   "version": "3.6.5"
  }
 },
 "nbformat": 4,
 "nbformat_minor": 2
}
